{
 "cells": [
  {
   "cell_type": "code",
   "execution_count": 9,
   "id": "c938f900",
   "metadata": {},
   "outputs": [],
   "source": [
    "import os\n",
    "import torch\n",
    "\n",
    "from PIL import Image"
   ]
  },
  {
   "cell_type": "code",
   "execution_count": 10,
   "id": "a222c54b",
   "metadata": {},
   "outputs": [],
   "source": [
    "classes = ['small', 'normal', 'big']\n",
    "dataset_path = os.path.abspath(os.curdir) + os.sep + 'dataset'"
   ]
  },
  {
   "cell_type": "code",
   "execution_count": 11,
   "id": "a76bbaed",
   "metadata": {},
   "outputs": [],
   "source": [
    "def rename():\n",
    "    for c in classes:\n",
    "        n = 0\n",
    "        files = [f for f in os.listdir(dataset_path + os.sep + c)]\n",
    "        for f in files:\n",
    "            old_name = dataset_path + os.sep + c + os.sep + f\n",
    "            new_name = dataset_path + os.sep + c + os.sep + c + '.' + str(n) + '.jpg'\n",
    "            os.rename(old_name, new_name)\n",
    "            n+=1 "
   ]
  },
  {
   "cell_type": "code",
   "execution_count": 12,
   "id": "e4011524",
   "metadata": {},
   "outputs": [],
   "source": [
    "def resize(size):\n",
    "    for c in classes:\n",
    "        if not os.path.exists(dataset_path + os.sep + c + '_' + str(size)):\n",
    "            os.makedirs(dataset_path + os.sep + c + '_' + str(size))\n",
    "        else:\n",
    "            os.rmdir(dataset_path + os.sep + c + '_' + str(size))\n",
    "        files = [f for f in os.listdir(dataset_path + os.sep + c)]\n",
    "        for f in files:\n",
    "            im = Image.open(dataset_path + os.sep + c + os.sep + f).convert('RGB')\n",
    "            resized = im.resize((size, size), Image.ANTIALIAS)\n",
    "            resized.save(dataset_path + os.sep + c + '_' + str(size) + os.sep + f, 'JPEG', quality=100)"
   ]
  },
  {
   "cell_type": "code",
   "execution_count": 13,
   "id": "9030cee4",
   "metadata": {},
   "outputs": [],
   "source": [
    "rename()"
   ]
  },
  {
   "cell_type": "code",
   "execution_count": 14,
   "id": "edeb961d",
   "metadata": {},
   "outputs": [],
   "source": [
    "resize(224)"
   ]
  },
  {
   "cell_type": "code",
   "execution_count": null,
   "id": "09d99b5d",
   "metadata": {},
   "outputs": [],
   "source": []
  }
 ],
 "metadata": {
  "kernelspec": {
   "display_name": "Python 3 (ipykernel)",
   "language": "python",
   "name": "python3"
  },
  "language_info": {
   "codemirror_mode": {
    "name": "ipython",
    "version": 3
   },
   "file_extension": ".py",
   "mimetype": "text/x-python",
   "name": "python",
   "nbconvert_exporter": "python",
   "pygments_lexer": "ipython3",
   "version": "3.7.10"
  }
 },
 "nbformat": 4,
 "nbformat_minor": 5
}
