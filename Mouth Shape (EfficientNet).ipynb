{
 "cells": [
  {
   "cell_type": "code",
   "execution_count": null,
   "id": "cfafb579",
   "metadata": {},
   "outputs": [],
   "source": [
    "import gc\n",
    "import os\n",
    "import pylab\n",
    "import zipfile\n",
    "import numpy as np\n",
    "import pandas as pd\n",
    "import seaborn as sns\n",
    "import matplotlib.pyplot as plt\n",
    "\n",
    "# tensorflow\n",
    "import tensorflow as tf\n",
    "from tensorflow import keras\n",
    "from tensorflow.keras import layers\n",
    "import tensorflow.keras.applications as efn\n",
    "from keras.preprocessing.image import ImageDataGenerator, load_img"
   ]
  },
  {
   "cell_type": "markdown",
   "id": "2954804f",
   "metadata": {},
   "source": [
    "## Dataset"
   ]
  },
  {
   "cell_type": "markdown",
   "id": "dc7baee1",
   "metadata": {},
   "source": [
    "### Load dataset"
   ]
  },
  {
   "cell_type": "code",
   "execution_count": null,
   "id": "10316ed3",
   "metadata": {},
   "outputs": [],
   "source": [
    "split = 0.2\n",
    "seed = 19260817\n",
    "batch_size = 16\n",
    "img_size = (224, 224)\n",
    "\n",
    "train_ds = keras.utils.image_dataset_from_directory(\n",
    "    'dataset/train',\n",
    "    labels=\"inferred\",\n",
    "    label_mode=\"int\",\n",
    "    color_mode=\"rgb\",\n",
    "    batch_size=batch_size,\n",
    "    image_size=img_size,\n",
    "    shuffle=True,\n",
    "    seed=seed,\n",
    "    validation_split=split,\n",
    "    subset='training',\n",
    ")\n",
    "val_ds = keras.utils.image_dataset_from_directory(\n",
    "    'dataset/train',\n",
    "    labels=\"inferred\",\n",
    "    label_mode=\"int\",\n",
    "    color_mode=\"rgb\",\n",
    "    batch_size=batch_size,\n",
    "    image_size=img_size,\n",
    "    shuffle=True,\n",
    "    seed=seed,\n",
    "    validation_split=split,\n",
    "    subset='validation',\n",
    ")"
   ]
  },
  {
   "cell_type": "markdown",
   "id": "642d6363",
   "metadata": {},
   "source": [
    "### Visualize dataset"
   ]
  },
  {
   "cell_type": "code",
   "execution_count": null,
   "id": "7beded68",
   "metadata": {},
   "outputs": [],
   "source": [
    "label_names = {0: 'big', 1: 'normal', 2: 'small'}\n",
    "\n",
    "fig, ax = plt.subplots(figsize=(15, 7))\n",
    "for img, label in train_ds.take(1):\n",
    "    for i in range(12):\n",
    "        plt.subplot(3, 4, i + 1)\n",
    "        plt.imshow(img.numpy()[i] / 255)\n",
    "        plt.axis(\"off\")\n",
    "        plt.title(\"label: \" + label_names[label.numpy()[i]])\n",
    "plt.show()"
   ]
  },
  {
   "cell_type": "markdown",
   "id": "bbacf986",
   "metadata": {},
   "source": [
    "## EfficientNet Model"
   ]
  },
  {
   "cell_type": "markdown",
   "id": "1c9706df",
   "metadata": {},
   "source": [
    "### Plot history"
   ]
  },
  {
   "cell_type": "code",
   "execution_count": null,
   "id": "8e18a82f",
   "metadata": {},
   "outputs": [],
   "source": [
    "def plot_history(history, title=''):  \n",
    "    if title != '':\n",
    "        title += ' '\n",
    "    # Ploting the Loss and Accuracy Curves\n",
    "    fig, ax = plt.subplots(nrows = 1, ncols = 2, figsize = (16, 6))\n",
    "    # Loss\n",
    "    sns.lineplot(data = history.history['loss'], label = 'Training Loss', ax = ax[0])\n",
    "    sns.lineplot(data = history.history['val_loss'], label = 'Validation Loss', ax = ax[0])\n",
    "    ax[0].legend(loc = 'upper right')\n",
    "    ax[0].set_title(title + 'Loss')\n",
    "    # Accuracy\n",
    "    sns.lineplot(data = history.history['accuracy'], label = 'Training Accuracy', ax = ax[1])\n",
    "    sns.lineplot(data = history.history['val_accuracy'], label = 'Validation Accuracy', ax = ax[1])\n",
    "    ax[1].legend(loc = 'lower right')\n",
    "    ax[1].set_title(title + 'Accuracy')"
   ]
  },
  {
   "cell_type": "markdown",
   "id": "bc362850",
   "metadata": {},
   "source": [
    "### Augmentation"
   ]
  },
  {
   "cell_type": "code",
   "execution_count": null,
   "id": "91ecd007",
   "metadata": {},
   "outputs": [],
   "source": [
    "data_augmentation = keras.Sequential(\n",
    "    [\n",
    "        layers.RandomFlip(\"horizontal\"),\n",
    "        layers.RandomRotation(0.2),\n",
    "        layers.RandomTranslation(0.14, 0.14),\n",
    "        layers.RandomZoom(0.2),\n",
    "        layers.RandomContrast(0.2),\n",
    "    ]\n",
    ")"
   ]
  },
  {
   "cell_type": "markdown",
   "id": "5eddc8ac",
   "metadata": {},
   "source": [
    "### Save best callback and load"
   ]
  },
  {
   "cell_type": "code",
   "execution_count": null,
   "id": "84116b20",
   "metadata": {},
   "outputs": [],
   "source": [
    "def save_best(name:str='model', patient=3):\n",
    "    CB = [\n",
    "        keras.callbacks.ModelCheckpoint(\n",
    "        filepath=name + \".keras\",\n",
    "        save_best_only=True,\n",
    "        monitor=\"val_loss\"),\n",
    "\n",
    "        keras.callbacks.EarlyStopping(\n",
    "        monitor='val_loss',\n",
    "        min_delta=0.0005,\n",
    "        patience=patient)\n",
    "    ]\n",
    "    return CB\n",
    "\n",
    "def load_best(name:str='model'):\n",
    "    return keras.models.load_model(name + \".keras\")"
   ]
  },
  {
   "cell_type": "markdown",
   "id": "84919c29",
   "metadata": {},
   "source": [
    "### Load EfficientNet model"
   ]
  },
  {
   "cell_type": "code",
   "execution_count": null,
   "id": "2c50a8f1",
   "metadata": {},
   "outputs": [],
   "source": [
    "EfficientNetB = list(range(8))\n",
    "EfficientNetB[0] = efn.EfficientNetB0(weights=None, include_top=True, input_shape=img_size+(3,), classes=3)\n",
    "EfficientNetB[1] = efn.EfficientNetB1(weights=None, include_top=True, input_shape=img_size+(3,), classes=3)\n",
    "EfficientNetB[2] = efn.EfficientNetB2(weights=None, include_top=True, input_shape=img_size+(3,), classes=3)\n",
    "EfficientNetB[3] = efn.EfficientNetB3(weights=None, include_top=True, input_shape=img_size+(3,), classes=3)\n",
    "EfficientNetB[4] = efn.EfficientNetB4(weights=None, include_top=True, input_shape=img_size+(3,), classes=3)\n",
    "EfficientNetB[5] = efn.EfficientNetB5(weights=None, include_top=True, input_shape=img_size+(3,), classes=3)\n",
    "EfficientNetB[6] = efn.EfficientNetB6(weights=None, include_top=True, input_shape=img_size+(3,), classes=3)\n",
    "EfficientNetB[7] = efn.EfficientNetB7(weights=None, include_top=True, input_shape=img_size+(3,), classes=3)"
   ]
  },
  {
   "cell_type": "code",
   "execution_count": null,
   "id": "a317e832",
   "metadata": {},
   "outputs": [],
   "source": [
    "using_model = [0, 1, 2, 3, 4, 5, 6, 7]"
   ]
  },
  {
   "cell_type": "code",
   "execution_count": null,
   "id": "072604a1",
   "metadata": {},
   "outputs": [],
   "source": [
    "names = ['EfficientNetB' + str(i) for i in range(0, 8)]\n",
    "names"
   ]
  },
  {
   "cell_type": "code",
   "execution_count": null,
   "id": "a0a84e7c",
   "metadata": {},
   "outputs": [],
   "source": [
    "def get_model(EfficientNet):\n",
    "    inputs = keras.Input(shape=img_size+(3,))\n",
    "    # inputs = data_augmentation(inputs)\n",
    "    outputs = EfficientNet(inputs)\n",
    "    model = keras.Model(inputs, outputs)\n",
    "    model.compile(optimizer=\"rmsprop\",\n",
    "              loss=\"sparse_categorical_crossentropy\",\n",
    "              metrics=[\"accuracy\"])\n",
    "    return model"
   ]
  },
  {
   "cell_type": "code",
   "execution_count": null,
   "id": "17e88536",
   "metadata": {},
   "outputs": [],
   "source": [
    "def train_model(model,name:str='model'):\n",
    "    history = model.fit(\n",
    "        train_ds,\n",
    "        epochs=100,\n",
    "        validation_data=val_ds,\n",
    "        callbacks=save_best(name)\n",
    "    )\n",
    "    return history"
   ]
  },
  {
   "cell_type": "code",
   "execution_count": null,
   "id": "83035954",
   "metadata": {},
   "outputs": [],
   "source": [
    "EfficientNetB[0].summary()"
   ]
  },
  {
   "cell_type": "markdown",
   "id": "d4ba91c1",
   "metadata": {},
   "source": [
    "### Train models"
   ]
  },
  {
   "cell_type": "code",
   "execution_count": null,
   "id": "4099bee1",
   "metadata": {},
   "outputs": [],
   "source": [
    "historys = {}\n",
    "for i in usingModel:\n",
    "    model = get_model(EfficientNetB[i])\n",
    "    history = train_model(model, name=names[i])\n",
    "    historys[names[i]] = history"
   ]
  },
  {
   "cell_type": "code",
   "execution_count": null,
   "id": "6d4148ce",
   "metadata": {},
   "outputs": [],
   "source": [
    "for name in historys:\n",
    "    plot_history(historys[name], title=name)\n",
    "    plt.savefig(name + '.png')"
   ]
  },
  {
   "cell_type": "markdown",
   "id": "9463c0b8",
   "metadata": {},
   "source": [
    "### Compare models"
   ]
  },
  {
   "cell_type": "code",
   "execution_count": null,
   "id": "d856053e",
   "metadata": {},
   "outputs": [],
   "source": [
    "def get_loss_table():\n",
    "    list = []\n",
    "    for i in using_model:\n",
    "        model = load_best(names[i])\n",
    "        test = model.evaluate(val_ds)\n",
    "        list.append(test)\n",
    "    return list"
   ]
  },
  {
   "cell_type": "code",
   "execution_count": null,
   "id": "15c4bf6e",
   "metadata": {},
   "outputs": [],
   "source": [
    "loss_table = get_loss_table()"
   ]
  },
  {
   "cell_type": "code",
   "execution_count": null,
   "id": "1666ce20",
   "metadata": {},
   "outputs": [],
   "source": [
    "using_model_name = [names[i] for i in using_model]\n",
    "using_model_name"
   ]
  },
  {
   "cell_type": "code",
   "execution_count": null,
   "id": "5528425f",
   "metadata": {},
   "outputs": [],
   "source": [
    "pd.set_option('precision', 10)\n",
    "compare_table = pd.DataFrame(loss_table, columns=['loss', 'accuracy'], index=using_model_name)\n",
    "cm = sns.light_palette(\"blue\", as_cmap=True)\n",
    "compare_table.head(len(using_model)).style.background_gradient(cmap=cm)"
   ]
  },
  {
   "cell_type": "markdown",
   "id": "1099e62e",
   "metadata": {},
   "source": [
    "## Prediction"
   ]
  },
  {
   "cell_type": "markdown",
   "id": "18a4a68c",
   "metadata": {},
   "source": [
    "### Select the best model"
   ]
  },
  {
   "cell_type": "code",
   "execution_count": null,
   "id": "bd554c58",
   "metadata": {},
   "outputs": [],
   "source": [
    "best_model_name = compare_table.idxmax()['accuracy']\n",
    "model = load_best(best_model_name)"
   ]
  },
  {
   "cell_type": "markdown",
   "id": "1cca2dea",
   "metadata": {},
   "source": [
    "### Prepare testing dataset"
   ]
  },
  {
   "cell_type": "code",
   "execution_count": null,
   "id": "d0aa7634",
   "metadata": {},
   "outputs": [],
   "source": [
    "test_filenames = os.listdir('dataset/test')\n",
    "test_df = pd.DataFrame({\n",
    "    'id': test_filenames\n",
    "})\n",
    "nb_samples = test_df.shape[0]\n",
    "nb_samples"
   ]
  },
  {
   "cell_type": "code",
   "execution_count": null,
   "id": "76fe87b6",
   "metadata": {},
   "outputs": [],
   "source": [
    "test_gen = ImageDataGenerator()\n",
    "test_generator = test_gen.flow_from_dataframe(\n",
    "    test_df, \n",
    "    \"dataset/test\", \n",
    "    x_col='id',\n",
    "    y_col=None,\n",
    "    class_mode=None,\n",
    "    target_size=img_size,\n",
    "    batch_size=batch_size,\n",
    "    shuffle=False\n",
    ")"
   ]
  },
  {
   "cell_type": "markdown",
   "id": "535a7d5f",
   "metadata": {},
   "source": [
    "### Predict and view"
   ]
  },
  {
   "cell_type": "code",
   "execution_count": null,
   "id": "fc8b7e5b",
   "metadata": {},
   "outputs": [],
   "source": [
    "predict = model.predict(test_generator)\n",
    "test_df['labels'] = np.argmax(predict, axis=-1)"
   ]
  },
  {
   "cell_type": "code",
   "execution_count": null,
   "id": "b7382995",
   "metadata": {},
   "outputs": [],
   "source": [
    "test_df"
   ]
  },
  {
   "cell_type": "code",
   "execution_count": null,
   "id": "3f08f46a",
   "metadata": {},
   "outputs": [],
   "source": [
    "label_names = {0: 'big', 1: 'normal', 2: 'small'}\n",
    "\n",
    "fig, ax = plt.subplots(figsize=(15, 7))\n",
    "i = 0\n",
    "for index, row in test_df.sample(12).iterrows():\n",
    "    i += 1\n",
    "    plt.subplot(3, 4, i)\n",
    "    img = plt.imread('dataset/test/' + row['id'])\n",
    "    plt.imshow(img)\n",
    "    plt.axis(\"off\")\n",
    "    plt.title(\"label: \" + label_names[label.numpy()[i]])\n",
    "plt.show()"
   ]
  },
  {
   "cell_type": "markdown",
   "id": "8ea3c432",
   "metadata": {},
   "source": [
    "### Submit"
   ]
  },
  {
   "cell_type": "code",
   "execution_count": null,
   "id": "0a18a64e",
   "metadata": {},
   "outputs": [],
   "source": [
    "test_df.set_index('id')\n",
    "test_df.to_csv('submission.csv', index=False)"
   ]
  }
 ],
 "metadata": {
  "kernelspec": {
   "display_name": "Python 3 (ipykernel)",
   "language": "python",
   "name": "python3"
  },
  "language_info": {
   "codemirror_mode": {
    "name": "ipython",
    "version": 3
   },
   "file_extension": ".py",
   "mimetype": "text/x-python",
   "name": "python",
   "nbconvert_exporter": "python",
   "pygments_lexer": "ipython3",
   "version": "3.7.10"
  }
 },
 "nbformat": 4,
 "nbformat_minor": 5
}
