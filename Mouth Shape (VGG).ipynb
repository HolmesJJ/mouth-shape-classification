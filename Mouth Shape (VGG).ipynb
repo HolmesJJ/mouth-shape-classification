{
 "cells": [
  {
   "cell_type": "code",
   "execution_count": null,
   "metadata": {
    "executionInfo": {
     "elapsed": 3402,
     "status": "ok",
     "timestamp": 1646797750934,
     "user": {
      "displayName": "JIAJUN HU",
      "photoUrl": "https://lh3.googleusercontent.com/a/default-user=s64",
      "userId": "09385452830939998706"
     },
     "user_tz": -480
    },
    "id": "IcAjalXRkpMV"
   },
   "outputs": [],
   "source": [
    "import gc\n",
    "import os\n",
    "import sys\n",
    "import pylab\n",
    "import zipfile\n",
    "import warnings\n",
    "import numpy as np\n",
    "import pandas as pd\n",
    "import seaborn as sns\n",
    "import matplotlib.pyplot as plt\n",
    "\n",
    "# TensorFlow\n",
    "import tensorflow as tf\n",
    "from tensorflow import keras\n",
    "from tensorflow.keras import layers\n",
    "from keras.preprocessing.image import ImageDataGenerator, load_img"
   ]
  },
  {
   "cell_type": "code",
   "execution_count": null,
   "metadata": {
    "colab": {
     "base_uri": "https://localhost:8080/"
    },
    "executionInfo": {
     "elapsed": 298,
     "status": "ok",
     "timestamp": 1646797754314,
     "user": {
      "displayName": "JIAJUN HU",
      "photoUrl": "https://lh3.googleusercontent.com/a/default-user=s64",
      "userId": "09385452830939998706"
     },
     "user_tz": -480
    },
    "id": "mLBiUxiilG_i",
    "outputId": "5eca6ed8-ab18-4644-f1b2-67e4aabad4c8"
   },
   "outputs": [],
   "source": [
    "print(\"Num GPUs Available: \", len(tf.config.experimental.list_physical_devices('GPU')))"
   ]
  },
  {
   "cell_type": "code",
   "execution_count": null,
   "metadata": {
    "executionInfo": {
     "elapsed": 4,
     "status": "ok",
     "timestamp": 1646797755585,
     "user": {
      "displayName": "JIAJUN HU",
      "photoUrl": "https://lh3.googleusercontent.com/a/default-user=s64",
      "userId": "09385452830939998706"
     },
     "user_tz": -480
    },
    "id": "ByOM3-7stPnF"
   },
   "outputs": [],
   "source": [
    "# Google Colab\n",
    "# path_to_file = '/content/gdrive/My Drive/mouth-shape-classification'\n",
    "# Local\n",
    "path_to_file = os.path.abspath(os.curdir)\n",
    "path_to_file"
   ]
  },
  {
   "cell_type": "code",
   "execution_count": null,
   "metadata": {
    "colab": {
     "base_uri": "https://localhost:8080/"
    },
    "executionInfo": {
     "elapsed": 15578,
     "status": "ok",
     "timestamp": 1646797773194,
     "user": {
      "displayName": "JIAJUN HU",
      "photoUrl": "https://lh3.googleusercontent.com/a/default-user=s64",
      "userId": "09385452830939998706"
     },
     "user_tz": -480
    },
    "id": "4ldfNVWllBJd",
    "outputId": "dc792bcd-a2f8-452b-85f3-fc55ac493bb7"
   },
   "outputs": [],
   "source": [
    "# For Google Colaboratory\n",
    "if 'google.colab' in sys.modules:\n",
    "    # Mount google drive\n",
    "    from google.colab import drive\n",
    "    drive.mount('/content/gdrive')\n",
    "    path_to_file = path_to_file\n",
    "    print(path_to_file)\n",
    "    # Move to Google Drive directory\n",
    "    os.chdir(path_to_file)"
   ]
  },
  {
   "cell_type": "markdown",
   "metadata": {
    "id": "OgveF3Jxlu0P"
   },
   "source": [
    "## Dataset"
   ]
  },
  {
   "cell_type": "markdown",
   "metadata": {
    "id": "YUe5Rinkl22Y"
   },
   "source": [
    "### Load dataset"
   ]
  },
  {
   "cell_type": "code",
   "execution_count": null,
   "metadata": {
    "colab": {
     "base_uri": "https://localhost:8080/"
    },
    "executionInfo": {
     "elapsed": 4110,
     "status": "ok",
     "timestamp": 1646797779702,
     "user": {
      "displayName": "JIAJUN HU",
      "photoUrl": "https://lh3.googleusercontent.com/a/default-user=s64",
      "userId": "09385452830939998706"
     },
     "user_tz": -480
    },
    "id": "KcKW634LlrPV",
    "outputId": "37878526-d6c7-41ec-d414-ab214b272c7c"
   },
   "outputs": [],
   "source": [
    "split = 0.2\n",
    "seed = 19260817\n",
    "batch_size = 16\n",
    "img_size = (224, 224)\n",
    "\n",
    "train_ds = keras.utils.image_dataset_from_directory(\n",
    "    path_to_file + '/dataset/train',\n",
    "    labels=\"inferred\",\n",
    "    label_mode=\"int\",\n",
    "    color_mode=\"rgb\",\n",
    "    batch_size=batch_size,\n",
    "    image_size=img_size,\n",
    "    shuffle=True,\n",
    "    seed=seed,\n",
    "    validation_split=split,\n",
    "    subset='training',\n",
    ")\n",
    "val_ds = keras.utils.image_dataset_from_directory(\n",
    "    path_to_file + '/dataset/train',\n",
    "    labels=\"inferred\",\n",
    "    label_mode=\"int\",\n",
    "    color_mode=\"rgb\",\n",
    "    batch_size=batch_size,\n",
    "    image_size=img_size,\n",
    "    shuffle=True,\n",
    "    seed=seed,\n",
    "    validation_split=split,\n",
    "    subset='validation',\n",
    ")"
   ]
  },
  {
   "cell_type": "markdown",
   "metadata": {
    "id": "KcsYOcFsnS3r"
   },
   "source": [
    "### Visualize dataset"
   ]
  },
  {
   "cell_type": "code",
   "execution_count": null,
   "metadata": {
    "colab": {
     "base_uri": "https://localhost:8080/",
     "height": 427
    },
    "executionInfo": {
     "elapsed": 13107,
     "status": "ok",
     "timestamp": 1646797796019,
     "user": {
      "displayName": "JIAJUN HU",
      "photoUrl": "https://lh3.googleusercontent.com/a/default-user=s64",
      "userId": "09385452830939998706"
     },
     "user_tz": -480
    },
    "id": "0jnlAKXXnPcN",
    "outputId": "e99890e5-8349-43e0-e691-0ca312a9eefb"
   },
   "outputs": [],
   "source": [
    "label_names = {0: 'big', 1: 'normal', 2: 'small'}\n",
    "\n",
    "fig, ax = plt.subplots(figsize=(15, 7))\n",
    "for img, label in train_ds.take(1):\n",
    "    for i in range(12):\n",
    "        plt.subplot(3, 4, i + 1)\n",
    "        plt.imshow(img.numpy()[i] / 255)\n",
    "        plt.axis(\"off\")\n",
    "        plt.title(\"label: \" + label_names[label.numpy()[i]])\n",
    "plt.show()"
   ]
  },
  {
   "cell_type": "markdown",
   "metadata": {
    "id": "2wMiqzVHnYzB"
   },
   "source": [
    "## VGG16 Model"
   ]
  },
  {
   "cell_type": "markdown",
   "metadata": {
    "id": "s1d9IUhFndWV"
   },
   "source": [
    "### Plot history"
   ]
  },
  {
   "cell_type": "code",
   "execution_count": null,
   "metadata": {
    "executionInfo": {
     "elapsed": 369,
     "status": "ok",
     "timestamp": 1646797799105,
     "user": {
      "displayName": "JIAJUN HU",
      "photoUrl": "https://lh3.googleusercontent.com/a/default-user=s64",
      "userId": "09385452830939998706"
     },
     "user_tz": -480
    },
    "id": "bB2wvYx8nVzu"
   },
   "outputs": [],
   "source": [
    "def plot_history(history, title=''):  \n",
    "    if title != '':\n",
    "        title += ' '\n",
    "    # Ploting the Loss and Accuracy Curves\n",
    "    fig, ax = plt.subplots(nrows = 1, ncols = 2, figsize = (16, 6))\n",
    "    # Loss\n",
    "    sns.lineplot(data = history.history['loss'], label = 'Training Loss', ax = ax[0])\n",
    "    sns.lineplot(data = history.history['val_loss'], label = 'Validation Loss', ax = ax[0])\n",
    "    ax[0].legend(loc = 'upper right')\n",
    "    ax[0].set_title(title + 'Loss')\n",
    "    # Accuracy\n",
    "    sns.lineplot(data = history.history['accuracy'], label = 'Training Accuracy', ax = ax[1])\n",
    "    sns.lineplot(data = history.history['val_accuracy'], label = 'Validation Accuracy', ax = ax[1])\n",
    "    ax[1].legend(loc = 'lower right')\n",
    "    ax[1].set_title(title + 'Accuracy')"
   ]
  },
  {
   "cell_type": "markdown",
   "metadata": {
    "id": "FBIymJmkniFc"
   },
   "source": [
    "### Augmentation"
   ]
  },
  {
   "cell_type": "code",
   "execution_count": null,
   "metadata": {
    "executionInfo": {
     "elapsed": 262,
     "status": "ok",
     "timestamp": 1646797802408,
     "user": {
      "displayName": "JIAJUN HU",
      "photoUrl": "https://lh3.googleusercontent.com/a/default-user=s64",
      "userId": "09385452830939998706"
     },
     "user_tz": -480
    },
    "id": "cTqtYvItni7y"
   },
   "outputs": [],
   "source": [
    "data_augmentation = keras.Sequential(\n",
    "    [\n",
    "        layers.RandomFlip(\"horizontal\"),\n",
    "        layers.RandomRotation(0.2),\n",
    "        layers.RandomTranslation(0.14, 0.14),\n",
    "        layers.RandomZoom(0.2),\n",
    "        layers.RandomContrast(0.2),\n",
    "    ]\n",
    ")"
   ]
  },
  {
   "cell_type": "markdown",
   "metadata": {
    "id": "-gWjIZIInmsl"
   },
   "source": [
    "### Save best callback"
   ]
  },
  {
   "cell_type": "code",
   "execution_count": null,
   "metadata": {
    "executionInfo": {
     "elapsed": 271,
     "status": "ok",
     "timestamp": 1646797806485,
     "user": {
      "displayName": "JIAJUN HU",
      "photoUrl": "https://lh3.googleusercontent.com/a/default-user=s64",
      "userId": "09385452830939998706"
     },
     "user_tz": -480
    },
    "id": "Qv-uCF_wnkTY"
   },
   "outputs": [],
   "source": [
    "def save_best(name:str='vgg16_fine_tuning', patient=3):\n",
    "    CB = [\n",
    "        keras.callbacks.ModelCheckpoint(\n",
    "        filepath=name + \".keras\",\n",
    "        save_best_only=True,\n",
    "        monitor=\"val_loss\"),\n",
    "\n",
    "        keras.callbacks.EarlyStopping(\n",
    "        monitor='val_loss',\n",
    "        min_delta=0.0005,\n",
    "        patience=patient)\n",
    "    ]\n",
    "    return CB"
   ]
  },
  {
   "cell_type": "markdown",
   "metadata": {
    "id": "7jkV0SKMnq1v"
   },
   "source": [
    "### Load VGG16 model"
   ]
  },
  {
   "cell_type": "code",
   "execution_count": null,
   "metadata": {
    "colab": {
     "base_uri": "https://localhost:8080/"
    },
    "executionInfo": {
     "elapsed": 1286,
     "status": "ok",
     "timestamp": 1646797810732,
     "user": {
      "displayName": "JIAJUN HU",
      "photoUrl": "https://lh3.googleusercontent.com/a/default-user=s64",
      "userId": "09385452830939998706"
     },
     "user_tz": -480
    },
    "id": "Rapkh-P8npKU",
    "outputId": "10c46254-881a-4dd4-e2be-a1cc6a8cc131"
   },
   "outputs": [],
   "source": [
    "vgg16_base = keras.applications.vgg16.VGG16(\n",
    "    weights=\"imagenet\",\n",
    "    include_top=False)\n",
    "\n",
    "# vgg16_base.trainable = True\n",
    "vgg16_base.trainable = False\n",
    "\n",
    "print(\"This is the number of trainable weights before freezing the conv base:\", len(vgg16_base.trainable_weights))\n",
    "\n",
    "vgg16_base.summary()"
   ]
  },
  {
   "cell_type": "code",
   "execution_count": null,
   "metadata": {
    "colab": {
     "base_uri": "https://localhost:8080/"
    },
    "executionInfo": {
     "elapsed": 1510,
     "status": "ok",
     "timestamp": 1646797815360,
     "user": {
      "displayName": "JIAJUN HU",
      "photoUrl": "https://lh3.googleusercontent.com/a/default-user=s64",
      "userId": "09385452830939998706"
     },
     "user_tz": -480
    },
    "id": "5ZEouq9entNv",
    "outputId": "45c2f9a5-9cf2-4d78-aa9b-c402d1f517c4"
   },
   "outputs": [],
   "source": [
    "inputs = keras.Input(shape=img_size+(3,))\n",
    "x = data_augmentation(inputs)\n",
    "x = keras.applications.vgg16.preprocess_input(x)\n",
    "x = vgg16_base(x)\n",
    "x = layers.Flatten()(x)\n",
    "x = layers.Dense(512)(x)\n",
    "x = layers.Dropout(0.5)(x)\n",
    "x = layers.Dense(512)(x)\n",
    "x = layers.Dropout(0.5)(x)\n",
    "x = layers.Dense(512)(x)\n",
    "x = layers.Dropout(0.5)(x)\n",
    "x = layers.Dense(512)(x)\n",
    "x = layers.Dropout(0.5)(x)\n",
    "x = layers.Dense(512)(x)\n",
    "x = layers.Dropout(0.5)(x)\n",
    "x = layers.Dense(512)(x)\n",
    "x = layers.Dropout(0.5)(x)\n",
    "x = layers.Dense(512)(x)\n",
    "x = layers.Dropout(0.5)(x)\n",
    "x = layers.Dense(512)(x)\n",
    "x = layers.Dropout(0.5)(x)\n",
    "outputs = layers.Dense(3, activation=\"softmax\")(x)\n",
    "vgg16_model = keras.Model(inputs, outputs)\n",
    "vgg16_model.compile(optimizer=\"adam\",\n",
    "                    loss=\"sparse_categorical_crossentropy\",\n",
    "                    metrics=[\"accuracy\"])\n",
    "vgg16_model.summary()"
   ]
  },
  {
   "cell_type": "code",
   "execution_count": null,
   "metadata": {
    "colab": {
     "base_uri": "https://localhost:8080/"
    },
    "executionInfo": {
     "elapsed": 35061,
     "status": "ok",
     "timestamp": 1646797859473,
     "user": {
      "displayName": "JIAJUN HU",
      "photoUrl": "https://lh3.googleusercontent.com/a/default-user=s64",
      "userId": "09385452830939998706"
     },
     "user_tz": -480
    },
    "id": "pP8vZ5Uqnvt2",
    "outputId": "618a72a6-e59d-4115-9ab2-c06d7f3ff4ba"
   },
   "outputs": [],
   "source": [
    "history_vgg16 = vgg16_model.fit(\n",
    "    train_ds,\n",
    "    epochs=200,\n",
    "    validation_data=val_ds,\n",
    "    callbacks=save_best('vgg16_fine_tuning', 3)\n",
    "    )\n",
    "vgg16_model = keras.models.load_model(\"vgg16_fine_tuning.keras\")"
   ]
  },
  {
   "cell_type": "code",
   "execution_count": null,
   "metadata": {
    "colab": {
     "base_uri": "https://localhost:8080/",
     "height": 390
    },
    "executionInfo": {
     "elapsed": 993,
     "status": "ok",
     "timestamp": 1646797877679,
     "user": {
      "displayName": "JIAJUN HU",
      "photoUrl": "https://lh3.googleusercontent.com/a/default-user=s64",
      "userId": "09385452830939998706"
     },
     "user_tz": -480
    },
    "id": "We5W0FWfnxMa",
    "outputId": "7d924b8d-ca37-4c1f-9fcc-b20dd30f981a"
   },
   "outputs": [],
   "source": [
    "plot_history(history_vgg16, 'vgg16')"
   ]
  },
  {
   "cell_type": "markdown",
   "metadata": {
    "id": "N_0jJoVSulzh"
   },
   "source": [
    "### Load VGG19 model"
   ]
  },
  {
   "cell_type": "code",
   "execution_count": null,
   "metadata": {
    "colab": {
     "base_uri": "https://localhost:8080/"
    },
    "executionInfo": {
     "elapsed": 1338,
     "status": "ok",
     "timestamp": 1646797882912,
     "user": {
      "displayName": "JIAJUN HU",
      "photoUrl": "https://lh3.googleusercontent.com/a/default-user=s64",
      "userId": "09385452830939998706"
     },
     "user_tz": -480
    },
    "id": "Fe3UnWEKnym0",
    "outputId": "bb928271-1e8d-434d-fda5-7b03d1195553"
   },
   "outputs": [],
   "source": [
    "vgg19_base = keras.applications.vgg19.VGG19(\n",
    "    weights=\"imagenet\",\n",
    "    include_top=False)\n",
    "\n",
    "# vgg19_base.trainable = True\n",
    "vgg19_base.trainable = False\n",
    "\n",
    "print(\"This is the number of trainable weights before freezing the conv base: \", len(vgg19_base.trainable_weights))\n",
    "\n",
    "vgg19_base.summary()"
   ]
  },
  {
   "cell_type": "code",
   "execution_count": null,
   "metadata": {
    "colab": {
     "base_uri": "https://localhost:8080/"
    },
    "executionInfo": {
     "elapsed": 757,
     "status": "ok",
     "timestamp": 1646797887468,
     "user": {
      "displayName": "JIAJUN HU",
      "photoUrl": "https://lh3.googleusercontent.com/a/default-user=s64",
      "userId": "09385452830939998706"
     },
     "user_tz": -480
    },
    "id": "EHwQWgFin_6V",
    "outputId": "4d1a1809-ffd4-4c3f-fc37-ea3d0861e9be"
   },
   "outputs": [],
   "source": [
    "inputs = keras.Input(shape=img_size+(3,))\n",
    "x = data_augmentation(inputs)\n",
    "x = keras.applications.vgg19.preprocess_input(x)\n",
    "x = vgg19_base(x)\n",
    "x = layers.Flatten()(x)\n",
    "x = layers.Dense(512)(x)\n",
    "x = layers.Dropout(0.5)(x)\n",
    "x = layers.Dense(512)(x)\n",
    "x = layers.Dropout(0.5)(x)\n",
    "x = layers.Dense(512)(x)\n",
    "x = layers.Dropout(0.5)(x)\n",
    "x = layers.Dense(512)(x)\n",
    "x = layers.Dropout(0.5)(x)\n",
    "x = layers.Dense(512)(x)\n",
    "x = layers.Dropout(0.5)(x)\n",
    "x = layers.Dense(512)(x)\n",
    "x = layers.Dropout(0.5)(x)\n",
    "x = layers.Dense(512)(x)\n",
    "x = layers.Dropout(0.5)(x)\n",
    "x = layers.Dense(512)(x)\n",
    "x = layers.Dropout(0.5)(x)\n",
    "outputs = layers.Dense(3, activation=\"softmax\")(x)\n",
    "vgg19_model = keras.Model(inputs, outputs)\n",
    "vgg19_model.compile(optimizer=\"rmsprop\",\n",
    "              loss=\"sparse_categorical_crossentropy\",\n",
    "              metrics=[\"accuracy\"])\n",
    "vgg19_model.summary()"
   ]
  },
  {
   "cell_type": "code",
   "execution_count": null,
   "metadata": {
    "colab": {
     "base_uri": "https://localhost:8080/"
    },
    "executionInfo": {
     "elapsed": 23717,
     "status": "ok",
     "timestamp": 1646797923582,
     "user": {
      "displayName": "JIAJUN HU",
      "photoUrl": "https://lh3.googleusercontent.com/a/default-user=s64",
      "userId": "09385452830939998706"
     },
     "user_tz": -480
    },
    "id": "XjzFrmKooBvZ",
    "outputId": "ff255ddf-efde-4f46-d485-2618efc32e0f"
   },
   "outputs": [],
   "source": [
    "history_vgg19 = vgg19_model.fit(\n",
    "    train_ds,\n",
    "    epochs=100,\n",
    "    validation_data=val_ds,\n",
    "    callbacks=save_best('vgg19_fine_tuning', 3)\n",
    "    )\n",
    "vgg19_model = keras.models.load_model(\"vgg19_fine_tuning.keras\")"
   ]
  },
  {
   "cell_type": "code",
   "execution_count": null,
   "metadata": {
    "colab": {
     "base_uri": "https://localhost:8080/",
     "height": 390
    },
    "executionInfo": {
     "elapsed": 1459,
     "status": "ok",
     "timestamp": 1646798005659,
     "user": {
      "displayName": "JIAJUN HU",
      "photoUrl": "https://lh3.googleusercontent.com/a/default-user=s64",
      "userId": "09385452830939998706"
     },
     "user_tz": -480
    },
    "id": "nmvjrK0su7z5",
    "outputId": "74527927-431e-43c1-86f1-24859caea3e7"
   },
   "outputs": [],
   "source": [
    "plot_history(history_vgg19, 'vgg19')"
   ]
  },
  {
   "cell_type": "code",
   "execution_count": null,
   "metadata": {
    "colab": {
     "base_uri": "https://localhost:8080/"
    },
    "executionInfo": {
     "elapsed": 1806,
     "status": "ok",
     "timestamp": 1646797937793,
     "user": {
      "displayName": "JIAJUN HU",
      "photoUrl": "https://lh3.googleusercontent.com/a/default-user=s64",
      "userId": "09385452830939998706"
     },
     "user_tz": -480
    },
    "id": "NM_ECqN_vBD8",
    "outputId": "a9823e31-2c9a-4b4b-da9d-a07f1654ada3"
   },
   "outputs": [],
   "source": [
    "vgg16_test = vgg16_model.evaluate(val_ds)\n",
    "vgg19_test = vgg19_model.evaluate(val_ds)"
   ]
  },
  {
   "cell_type": "code",
   "execution_count": null,
   "metadata": {
    "colab": {
     "base_uri": "https://localhost:8080/",
     "height": 111
    },
    "executionInfo": {
     "elapsed": 254,
     "status": "ok",
     "timestamp": 1646798009251,
     "user": {
      "displayName": "JIAJUN HU",
      "photoUrl": "https://lh3.googleusercontent.com/a/default-user=s64",
      "userId": "09385452830939998706"
     },
     "user_tz": -480
    },
    "id": "UlhIOR7qvSpF",
    "outputId": "17f63337-621a-406a-9411-32e3141a5a7e"
   },
   "outputs": [],
   "source": [
    "pd.set_option('precision', 10)\n",
    "compare_table = pd.DataFrame([vgg16_test,vgg19_test], columns=['loss', 'accuracy'],index=['vgg16', 'vgg19'])\n",
    "cm = sns.light_palette(\"green\", as_cmap=True)\n",
    "compare_table.head().style.background_gradient(cmap=cm)"
   ]
  },
  {
   "cell_type": "markdown",
   "metadata": {},
   "source": [
    "## Prediction"
   ]
  },
  {
   "cell_type": "markdown",
   "metadata": {},
   "source": [
    "### Select the best model"
   ]
  },
  {
   "cell_type": "code",
   "execution_count": null,
   "metadata": {
    "executionInfo": {
     "elapsed": 254,
     "status": "ok",
     "timestamp": 1646798015148,
     "user": {
      "displayName": "JIAJUN HU",
      "photoUrl": "https://lh3.googleusercontent.com/a/default-user=s64",
      "userId": "09385452830939998706"
     },
     "user_tz": -480
    },
    "id": "cSIubiUMvagW"
   },
   "outputs": [],
   "source": [
    "if vgg16_test[1] > vgg19_test[1]:\n",
    "    model = vgg16_model\n",
    "else:\n",
    "    model = vgg19_model"
   ]
  },
  {
   "cell_type": "markdown",
   "metadata": {
    "id": "4FHPxHRZvh85"
   },
   "source": [
    "### Prepare testing data"
   ]
  },
  {
   "cell_type": "code",
   "execution_count": null,
   "metadata": {
    "colab": {
     "base_uri": "https://localhost:8080/"
    },
    "executionInfo": {
     "elapsed": 261,
     "status": "ok",
     "timestamp": 1646798023817,
     "user": {
      "displayName": "JIAJUN HU",
      "photoUrl": "https://lh3.googleusercontent.com/a/default-user=s64",
      "userId": "09385452830939998706"
     },
     "user_tz": -480
    },
    "id": "vlLQIHuAvdDJ",
    "outputId": "290e0ce2-86b5-43f0-e597-279390ffb0dc"
   },
   "outputs": [],
   "source": [
    "test_filenames = os.listdir(path_to_file + '/dataset/test')\n",
    "test_df = pd.DataFrame({\n",
    "    'id': test_filenames\n",
    "})\n",
    "nb_samples = test_df.shape[0]\n",
    "nb_samples"
   ]
  },
  {
   "cell_type": "code",
   "execution_count": null,
   "metadata": {
    "colab": {
     "base_uri": "https://localhost:8080/"
    },
    "executionInfo": {
     "elapsed": 269,
     "status": "ok",
     "timestamp": 1646798033996,
     "user": {
      "displayName": "JIAJUN HU",
      "photoUrl": "https://lh3.googleusercontent.com/a/default-user=s64",
      "userId": "09385452830939998706"
     },
     "user_tz": -480
    },
    "id": "SZ4KvbpUwT1A",
    "outputId": "bbb456ed-97b1-4123-9352-12bca7c94fda"
   },
   "outputs": [],
   "source": [
    "test_gen = ImageDataGenerator()\n",
    "test_generator = test_gen.flow_from_dataframe(\n",
    "    test_df, \n",
    "    path_to_file + '/dataset/test', \n",
    "    x_col='id',\n",
    "    y_col=None,\n",
    "    class_mode=None,\n",
    "    target_size=img_size,\n",
    "    batch_size=batch_size,\n",
    "    shuffle=False\n",
    ")"
   ]
  },
  {
   "cell_type": "markdown",
   "metadata": {},
   "source": [
    "### Predict and view"
   ]
  },
  {
   "cell_type": "code",
   "execution_count": null,
   "metadata": {
    "executionInfo": {
     "elapsed": 17128,
     "status": "ok",
     "timestamp": 1646798053777,
     "user": {
      "displayName": "JIAJUN HU",
      "photoUrl": "https://lh3.googleusercontent.com/a/default-user=s64",
      "userId": "09385452830939998706"
     },
     "user_tz": -480
    },
    "id": "KchsJv1Pw8VY"
   },
   "outputs": [],
   "source": [
    "predict = model.predict(test_generator)\n",
    "test_df['labels'] = np.argmax(predict, axis=-1)"
   ]
  },
  {
   "cell_type": "code",
   "execution_count": null,
   "metadata": {
    "colab": {
     "base_uri": "https://localhost:8080/",
     "height": 1000
    },
    "executionInfo": {
     "elapsed": 303,
     "status": "ok",
     "timestamp": 1646798061398,
     "user": {
      "displayName": "JIAJUN HU",
      "photoUrl": "https://lh3.googleusercontent.com/a/default-user=s64",
      "userId": "09385452830939998706"
     },
     "user_tz": -480
    },
    "id": "TO3DMxDrxA8X",
    "outputId": "f3e6acd3-4654-473f-e4b1-87d839a0bc57"
   },
   "outputs": [],
   "source": [
    "test_df"
   ]
  },
  {
   "cell_type": "code",
   "execution_count": null,
   "metadata": {
    "colab": {
     "base_uri": "https://localhost:8080/",
     "height": 427
    },
    "executionInfo": {
     "elapsed": 1994,
     "status": "ok",
     "timestamp": 1646798068070,
     "user": {
      "displayName": "JIAJUN HU",
      "photoUrl": "https://lh3.googleusercontent.com/a/default-user=s64",
      "userId": "09385452830939998706"
     },
     "user_tz": -480
    },
    "id": "oH7scwVvxClP",
    "outputId": "f4ad36eb-31fa-43b8-a6e3-b502ae38cdbd"
   },
   "outputs": [],
   "source": [
    "label_names = {0: 'big', 1: 'normal', 2: 'small'}\n",
    "\n",
    "fig, ax = plt.subplots(figsize=(15, 7))\n",
    "i = 0\n",
    "for index, row in test_df.sample(12).iterrows():\n",
    "    i += 1\n",
    "    plt.subplot(3, 4, i)\n",
    "    img=plt.imread(path_to_file + '/dataset/test/' + row['id'])\n",
    "    plt.imshow(img)\n",
    "    plt.axis(\"off\")\n",
    "    plt.title(\"label: \" + label_names[label.numpy()[i]])\n",
    "plt.show()"
   ]
  },
  {
   "cell_type": "markdown",
   "metadata": {
    "id": "VZtM-Rzrxkfk"
   },
   "source": [
    "### Output"
   ]
  },
  {
   "cell_type": "code",
   "execution_count": null,
   "metadata": {
    "executionInfo": {
     "elapsed": 301,
     "status": "ok",
     "timestamp": 1646798071465,
     "user": {
      "displayName": "JIAJUN HU",
      "photoUrl": "https://lh3.googleusercontent.com/a/default-user=s64",
      "userId": "09385452830939998706"
     },
     "user_tz": -480
    },
    "id": "7XbBN9cdxiNt"
   },
   "outputs": [],
   "source": [
    "test_df.set_index('id')\n",
    "test_df.to_csv('output.csv', index=False)"
   ]
  }
 ],
 "metadata": {
  "accelerator": "GPU",
  "colab": {
   "authorship_tag": "ABX9TyOGRXv8/qdCuMeqMls9nFij",
   "collapsed_sections": [],
   "name": "Mouth Shape (VGG).ipynb",
   "provenance": []
  },
  "kernelspec": {
   "display_name": "Python 3 (ipykernel)",
   "language": "python",
   "name": "python3"
  },
  "language_info": {
   "codemirror_mode": {
    "name": "ipython",
    "version": 3
   },
   "file_extension": ".py",
   "mimetype": "text/x-python",
   "name": "python",
   "nbconvert_exporter": "python",
   "pygments_lexer": "ipython3",
   "version": "3.7.10"
  }
 },
 "nbformat": 4,
 "nbformat_minor": 1
}
